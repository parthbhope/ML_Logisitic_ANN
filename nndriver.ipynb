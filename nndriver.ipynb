{
 "cells": [
  {
   "cell_type": "markdown",
   "metadata": {},
   "source": [
    "### Neural Network Assignment\n",
    "- Use this dataset to evaluate your model. The aim is to predict whether a house’s price will be above or below the market’s median price (binary classification).\n",
    "- Use an 80-20 train-test split to train/evaluate your model, and report the accuracy and F-score for the test set. Try to experiment with different configurations of the number of hidden layers, number of hidden neurons, activation functions, learning rates, and weight initializations (Gaussian, uniform, etc.).\n",
    "- Plot a graph illustrating how the loss function’s value decreases as training proceeds.\n",
    "- OPTIONAL: improve your vanilla implementation by implementing Dropout, Batch Normalization, etc. and mention it in your report."
   ]
  },
  {
   "cell_type": "code",
   "execution_count": 1,
   "metadata": {},
   "outputs": [],
   "source": [
    "import pandas as pd\n",
    "import matplotlib.pyplot as plt\n",
    "import scipy\n",
    "import time\n",
    "from nn import NerualNetwork\n",
    "import numpy as np\n",
    "import seaborn as sns\n",
    "from prettytable import PrettyTable"
   ]
  },
  {
   "cell_type": "code",
   "execution_count": 2,
   "metadata": {},
   "outputs": [
    {
     "data": {
      "text/html": [
       "<div>\n",
       "<style scoped>\n",
       "    .dataframe tbody tr th:only-of-type {\n",
       "        vertical-align: middle;\n",
       "    }\n",
       "\n",
       "    .dataframe tbody tr th {\n",
       "        vertical-align: top;\n",
       "    }\n",
       "\n",
       "    .dataframe thead th {\n",
       "        text-align: right;\n",
       "    }\n",
       "</style>\n",
       "<table border=\"1\" class=\"dataframe\">\n",
       "  <thead>\n",
       "    <tr style=\"text-align: right;\">\n",
       "      <th></th>\n",
       "      <th>LotArea</th>\n",
       "      <th>OverallQual</th>\n",
       "      <th>OverallCond</th>\n",
       "      <th>TotalBsmtSF</th>\n",
       "      <th>FullBath</th>\n",
       "      <th>HalfBath</th>\n",
       "      <th>BedroomAbvGr</th>\n",
       "      <th>TotRmsAbvGrd</th>\n",
       "      <th>Fireplaces</th>\n",
       "      <th>GarageArea</th>\n",
       "      <th>AboveMedianPrice</th>\n",
       "    </tr>\n",
       "  </thead>\n",
       "  <tbody>\n",
       "    <tr>\n",
       "      <th>0</th>\n",
       "      <td>8450</td>\n",
       "      <td>7</td>\n",
       "      <td>5</td>\n",
       "      <td>856</td>\n",
       "      <td>2</td>\n",
       "      <td>1</td>\n",
       "      <td>3</td>\n",
       "      <td>8</td>\n",
       "      <td>0</td>\n",
       "      <td>548</td>\n",
       "      <td>1</td>\n",
       "    </tr>\n",
       "    <tr>\n",
       "      <th>1</th>\n",
       "      <td>9600</td>\n",
       "      <td>6</td>\n",
       "      <td>8</td>\n",
       "      <td>1262</td>\n",
       "      <td>2</td>\n",
       "      <td>0</td>\n",
       "      <td>3</td>\n",
       "      <td>6</td>\n",
       "      <td>1</td>\n",
       "      <td>460</td>\n",
       "      <td>1</td>\n",
       "    </tr>\n",
       "    <tr>\n",
       "      <th>2</th>\n",
       "      <td>11250</td>\n",
       "      <td>7</td>\n",
       "      <td>5</td>\n",
       "      <td>920</td>\n",
       "      <td>2</td>\n",
       "      <td>1</td>\n",
       "      <td>3</td>\n",
       "      <td>6</td>\n",
       "      <td>1</td>\n",
       "      <td>608</td>\n",
       "      <td>1</td>\n",
       "    </tr>\n",
       "    <tr>\n",
       "      <th>3</th>\n",
       "      <td>9550</td>\n",
       "      <td>7</td>\n",
       "      <td>5</td>\n",
       "      <td>756</td>\n",
       "      <td>1</td>\n",
       "      <td>0</td>\n",
       "      <td>3</td>\n",
       "      <td>7</td>\n",
       "      <td>1</td>\n",
       "      <td>642</td>\n",
       "      <td>0</td>\n",
       "    </tr>\n",
       "    <tr>\n",
       "      <th>4</th>\n",
       "      <td>14260</td>\n",
       "      <td>8</td>\n",
       "      <td>5</td>\n",
       "      <td>1145</td>\n",
       "      <td>2</td>\n",
       "      <td>1</td>\n",
       "      <td>4</td>\n",
       "      <td>9</td>\n",
       "      <td>1</td>\n",
       "      <td>836</td>\n",
       "      <td>1</td>\n",
       "    </tr>\n",
       "  </tbody>\n",
       "</table>\n",
       "</div>"
      ],
      "text/plain": [
       "   LotArea  OverallQual  OverallCond  TotalBsmtSF  FullBath  HalfBath  \\\n",
       "0     8450            7            5          856         2         1   \n",
       "1     9600            6            8         1262         2         0   \n",
       "2    11250            7            5          920         2         1   \n",
       "3     9550            7            5          756         1         0   \n",
       "4    14260            8            5         1145         2         1   \n",
       "\n",
       "   BedroomAbvGr  TotRmsAbvGrd  Fireplaces  GarageArea  AboveMedianPrice  \n",
       "0             3             8           0         548                 1  \n",
       "1             3             6           1         460                 1  \n",
       "2             3             6           1         608                 1  \n",
       "3             3             7           1         642                 0  \n",
       "4             4             9           1         836                 1  "
      ]
     },
     "execution_count": 2,
     "metadata": {},
     "output_type": "execute_result"
    }
   ],
   "source": [
    "data = pd.read_csv('housepricedata.csv')\n",
    "data.head()"
   ]
  },
  {
   "cell_type": "code",
   "execution_count": 35,
   "metadata": {},
   "outputs": [
    {
     "data": {
      "text/html": [
       "<div>\n",
       "<style scoped>\n",
       "    .dataframe tbody tr th:only-of-type {\n",
       "        vertical-align: middle;\n",
       "    }\n",
       "\n",
       "    .dataframe tbody tr th {\n",
       "        vertical-align: top;\n",
       "    }\n",
       "\n",
       "    .dataframe thead th {\n",
       "        text-align: right;\n",
       "    }\n",
       "</style>\n",
       "<table border=\"1\" class=\"dataframe\">\n",
       "  <thead>\n",
       "    <tr style=\"text-align: right;\">\n",
       "      <th></th>\n",
       "      <th>LotArea</th>\n",
       "      <th>OverallQual</th>\n",
       "      <th>OverallCond</th>\n",
       "      <th>TotalBsmtSF</th>\n",
       "      <th>FullBath</th>\n",
       "      <th>HalfBath</th>\n",
       "      <th>BedroomAbvGr</th>\n",
       "      <th>TotRmsAbvGrd</th>\n",
       "      <th>Fireplaces</th>\n",
       "      <th>GarageArea</th>\n",
       "      <th>AboveMedianPrice</th>\n",
       "    </tr>\n",
       "  </thead>\n",
       "  <tbody>\n",
       "    <tr>\n",
       "      <th>count</th>\n",
       "      <td>1460.000000</td>\n",
       "      <td>1460.000000</td>\n",
       "      <td>1460.000000</td>\n",
       "      <td>1460.000000</td>\n",
       "      <td>1460.000000</td>\n",
       "      <td>1460.000000</td>\n",
       "      <td>1460.000000</td>\n",
       "      <td>1460.000000</td>\n",
       "      <td>1460.000000</td>\n",
       "      <td>1460.000000</td>\n",
       "      <td>1460.000000</td>\n",
       "    </tr>\n",
       "    <tr>\n",
       "      <th>mean</th>\n",
       "      <td>10516.828082</td>\n",
       "      <td>6.099315</td>\n",
       "      <td>5.575342</td>\n",
       "      <td>1057.429452</td>\n",
       "      <td>1.565068</td>\n",
       "      <td>0.382877</td>\n",
       "      <td>2.866438</td>\n",
       "      <td>6.517808</td>\n",
       "      <td>0.613014</td>\n",
       "      <td>472.980137</td>\n",
       "      <td>0.498630</td>\n",
       "    </tr>\n",
       "    <tr>\n",
       "      <th>std</th>\n",
       "      <td>9981.264932</td>\n",
       "      <td>1.382997</td>\n",
       "      <td>1.112799</td>\n",
       "      <td>438.705324</td>\n",
       "      <td>0.550916</td>\n",
       "      <td>0.502885</td>\n",
       "      <td>0.815778</td>\n",
       "      <td>1.625393</td>\n",
       "      <td>0.644666</td>\n",
       "      <td>213.804841</td>\n",
       "      <td>0.500169</td>\n",
       "    </tr>\n",
       "    <tr>\n",
       "      <th>min</th>\n",
       "      <td>1300.000000</td>\n",
       "      <td>1.000000</td>\n",
       "      <td>1.000000</td>\n",
       "      <td>0.000000</td>\n",
       "      <td>0.000000</td>\n",
       "      <td>0.000000</td>\n",
       "      <td>0.000000</td>\n",
       "      <td>2.000000</td>\n",
       "      <td>0.000000</td>\n",
       "      <td>0.000000</td>\n",
       "      <td>0.000000</td>\n",
       "    </tr>\n",
       "    <tr>\n",
       "      <th>25%</th>\n",
       "      <td>7553.500000</td>\n",
       "      <td>5.000000</td>\n",
       "      <td>5.000000</td>\n",
       "      <td>795.750000</td>\n",
       "      <td>1.000000</td>\n",
       "      <td>0.000000</td>\n",
       "      <td>2.000000</td>\n",
       "      <td>5.000000</td>\n",
       "      <td>0.000000</td>\n",
       "      <td>334.500000</td>\n",
       "      <td>0.000000</td>\n",
       "    </tr>\n",
       "    <tr>\n",
       "      <th>50%</th>\n",
       "      <td>9478.500000</td>\n",
       "      <td>6.000000</td>\n",
       "      <td>5.000000</td>\n",
       "      <td>991.500000</td>\n",
       "      <td>2.000000</td>\n",
       "      <td>0.000000</td>\n",
       "      <td>3.000000</td>\n",
       "      <td>6.000000</td>\n",
       "      <td>1.000000</td>\n",
       "      <td>480.000000</td>\n",
       "      <td>0.000000</td>\n",
       "    </tr>\n",
       "    <tr>\n",
       "      <th>75%</th>\n",
       "      <td>11601.500000</td>\n",
       "      <td>7.000000</td>\n",
       "      <td>6.000000</td>\n",
       "      <td>1298.250000</td>\n",
       "      <td>2.000000</td>\n",
       "      <td>1.000000</td>\n",
       "      <td>3.000000</td>\n",
       "      <td>7.000000</td>\n",
       "      <td>1.000000</td>\n",
       "      <td>576.000000</td>\n",
       "      <td>1.000000</td>\n",
       "    </tr>\n",
       "    <tr>\n",
       "      <th>max</th>\n",
       "      <td>215245.000000</td>\n",
       "      <td>10.000000</td>\n",
       "      <td>9.000000</td>\n",
       "      <td>6110.000000</td>\n",
       "      <td>3.000000</td>\n",
       "      <td>2.000000</td>\n",
       "      <td>8.000000</td>\n",
       "      <td>14.000000</td>\n",
       "      <td>3.000000</td>\n",
       "      <td>1418.000000</td>\n",
       "      <td>1.000000</td>\n",
       "    </tr>\n",
       "  </tbody>\n",
       "</table>\n",
       "</div>"
      ],
      "text/plain": [
       "             LotArea  OverallQual  OverallCond  TotalBsmtSF     FullBath  \\\n",
       "count    1460.000000  1460.000000  1460.000000  1460.000000  1460.000000   \n",
       "mean    10516.828082     6.099315     5.575342  1057.429452     1.565068   \n",
       "std      9981.264932     1.382997     1.112799   438.705324     0.550916   \n",
       "min      1300.000000     1.000000     1.000000     0.000000     0.000000   \n",
       "25%      7553.500000     5.000000     5.000000   795.750000     1.000000   \n",
       "50%      9478.500000     6.000000     5.000000   991.500000     2.000000   \n",
       "75%     11601.500000     7.000000     6.000000  1298.250000     2.000000   \n",
       "max    215245.000000    10.000000     9.000000  6110.000000     3.000000   \n",
       "\n",
       "          HalfBath  BedroomAbvGr  TotRmsAbvGrd   Fireplaces   GarageArea  \\\n",
       "count  1460.000000   1460.000000   1460.000000  1460.000000  1460.000000   \n",
       "mean      0.382877      2.866438      6.517808     0.613014   472.980137   \n",
       "std       0.502885      0.815778      1.625393     0.644666   213.804841   \n",
       "min       0.000000      0.000000      2.000000     0.000000     0.000000   \n",
       "25%       0.000000      2.000000      5.000000     0.000000   334.500000   \n",
       "50%       0.000000      3.000000      6.000000     1.000000   480.000000   \n",
       "75%       1.000000      3.000000      7.000000     1.000000   576.000000   \n",
       "max       2.000000      8.000000     14.000000     3.000000  1418.000000   \n",
       "\n",
       "       AboveMedianPrice  \n",
       "count       1460.000000  \n",
       "mean           0.498630  \n",
       "std            0.500169  \n",
       "min            0.000000  \n",
       "25%            0.000000  \n",
       "50%            0.000000  \n",
       "75%            1.000000  \n",
       "max            1.000000  "
      ]
     },
     "execution_count": 35,
     "metadata": {},
     "output_type": "execute_result"
    }
   ],
   "source": [
    "data.describe()"
   ]
  },
  {
   "cell_type": "code",
   "execution_count": 3,
   "metadata": {},
   "outputs": [],
   "source": [
    "def train_test_split(data,fraction=0.8):\n",
    "    new_data = data.sample(frac=fraction,random_state=200)\n",
    "    trainY = new_data['AboveMedianPrice']\n",
    "    trainX = new_data.drop(columns=['AboveMedianPrice'])\n",
    "    new_data = data.drop(new_data.index)\n",
    "    testY = new_data['AboveMedianPrice']\n",
    "    testX = new_data.drop(columns=['AboveMedianPrice'])\n",
    "    return trainX,testX,trainY,testY"
   ]
  },
  {
   "cell_type": "code",
   "execution_count": 4,
   "metadata": {},
   "outputs": [],
   "source": [
    "def Normalize_dataset(X,Y):\n",
    "    mu = X.mean(axis=0)\n",
    "    sigma = X.std(axis=0)\n",
    "    X = (X - mu) / sigma\n",
    "    Y = (Y - mu) / sigma\n",
    "    return X,Y\n",
    "\n",
    "def Standarized_Dataset(X,Y):\n",
    "    xmax = X.max(axis=0)\n",
    "    xmin = X.min(axis=0)\n",
    "    print(xmax.shape,xmin.shape)\n",
    "    X = (xmax - X)/(xmax - xmin)\n",
    "    Y = (xmax - Y)/(xmax - xmin)\n",
    "    return X,Y"
   ]
  },
  {
   "cell_type": "markdown",
   "metadata": {},
   "source": [
    "### Splitting the dataset"
   ]
  },
  {
   "cell_type": "code",
   "execution_count": 5,
   "metadata": {},
   "outputs": [],
   "source": [
    "train_x,test_x,train_y,test_y = train_test_split(data,fraction=0.8)"
   ]
  },
  {
   "cell_type": "markdown",
   "metadata": {},
   "source": [
    "### Normalizing the dataset"
   ]
  },
  {
   "cell_type": "code",
   "execution_count": 6,
   "metadata": {},
   "outputs": [
    {
     "name": "stdout",
     "output_type": "stream",
     "text": [
      "(10,) (10,)\n"
     ]
    }
   ],
   "source": [
    "train_x,test_x = Standarized_Dataset(train_x,test_x)"
   ]
  },
  {
   "cell_type": "markdown",
   "metadata": {},
   "source": [
    "### Re-shaping the dataset"
   ]
  },
  {
   "cell_type": "code",
   "execution_count": 7,
   "metadata": {},
   "outputs": [],
   "source": [
    "train_x,test_x = train_x.T,test_x.T\n",
    "train_y,test_y = np.array(train_y).reshape(1,-1),np.array(test_y).reshape(1,-1)"
   ]
  },
  {
   "cell_type": "markdown",
   "metadata": {},
   "source": [
    "### Creating object of Neural Network Module and calling train function on train dataset"
   ]
  },
  {
   "cell_type": "code",
   "execution_count": 8,
   "metadata": {},
   "outputs": [],
   "source": [
    "d = {'Layer Arch': [],\n",
    " 'mode': [],\n",
    " 'learning_rate': [],\n",
    " 'Training Acc': [],\n",
    " 'Testing Acc': [],\n",
    " 'Precision': [],\n",
    " 'Recall': [],\n",
    " 'F-Score': []}"
   ]
  },
  {
   "cell_type": "code",
   "execution_count": 9,
   "metadata": {},
   "outputs": [
    {
     "data": {
      "text/plain": [
       "((10, 1168), (1, 1168))"
      ]
     },
     "execution_count": 9,
     "metadata": {},
     "output_type": "execute_result"
    }
   ],
   "source": [
    "train_x.shape,train_y.shape"
   ]
  },
  {
   "cell_type": "code",
   "execution_count": 48,
   "metadata": {},
   "outputs": [
    {
     "name": "stdout",
     "output_type": "stream",
     "text": [
      "Cost after iteration 0: 0.683076\n",
      "Cost after iteration 100: 0.658135\n",
      "Cost after iteration 200: 0.616793\n",
      "Cost after iteration 300: 0.554095\n",
      "Cost after iteration 400: 0.482408\n",
      "Cost after iteration 500: 0.421639\n",
      "Cost after iteration 600: 0.377755\n",
      "Cost after iteration 700: 0.348680\n",
      "Cost after iteration 800: 0.329983\n",
      "Cost after iteration 900: 0.317767\n",
      "Cost after iteration 1000: 0.309458\n",
      "Cost after iteration 1100: 0.303517\n",
      "Cost after iteration 1200: 0.299030\n",
      "Cost after iteration 1300: 0.295473\n",
      "Cost after iteration 1400: 0.292548\n",
      "Cost after iteration 1500: 0.290049\n",
      "Cost after iteration 1600: 0.287814\n",
      "Cost after iteration 1700: 0.285845\n",
      "Cost after iteration 1800: 0.284078\n",
      "Cost after iteration 1900: 0.282468\n"
     ]
    },
    {
     "data": {
      "image/png": "[encoded data removed]",
      "text/plain": [
       "<Figure size 576x288 with 2 Axes>"
      ]
     },
     "metadata": {
      "needs_background": "light"
     },
     "output_type": "display_data"
    }
   ],
   "source": [
    "layer_arch = [10,8,1]\n",
    "learning_rate = 0.1\n",
    "mode = 'gaussian'\n",
    "d['Layer Arch'].append(layer_arch)\n",
    "d['learning_rate'].append(learning_rate)\n",
    "d['mode'].append(mode)\n",
    "\n",
    "nn = NerualNetwork(layer_arch,mode=mode)\n",
    "nn.train(train_x,train_y,print_cost=True)"
   ]
  },
  {
   "cell_type": "code",
   "execution_count": 49,
   "metadata": {},
   "outputs": [],
   "source": [
    "def evaluation(ytrue, predicted):\n",
    "    true_pos = sum(1 for p,g in zip(predicted, ytrue) if p==1 and g==1)\n",
    "    true_neg = sum(1 for p,g in zip(predicted, ytrue) if p==0 and g==0)\n",
    "    false_pos = sum(1 for p,g in zip(predicted, ytrue) if p==1 and g==0)\n",
    "    false_neg = sum(1 for p,g in zip(predicted, ytrue) if p==0 and g==1)\n",
    "    data = {'y_Actual' : ytrue , 'y_Predicted' : predicted}\n",
    "    try:\n",
    "        recall = true_pos / float(true_pos + false_neg)\n",
    "    except:\n",
    "        recall = 0\n",
    "    try:\n",
    "        precision = true_pos / float(true_pos + false_pos)\n",
    "    except:\n",
    "        precision = 0\n",
    "    try:\n",
    "        fscore = 2*precision*recall / (precision + recall)\n",
    "    except:\n",
    "        fscore = 0\n",
    "    try:\n",
    "        accuracy = (true_pos + true_neg) / float(len(ytrue))\n",
    "    except:\n",
    "        accuracy = 0\n",
    "    df = pd.DataFrame(data, columns=['y_Actual','y_Predicted'])\n",
    "    confusion_matrix = pd.crosstab(df['y_Actual'], df['y_Predicted'], rownames=['Actual'], colnames=['Predicted'])\n",
    "\n",
    "    sns.heatmap(confusion_matrix, annot=True,fmt=\"d\")\n",
    "    plt.title(\"Confusion Matrix\")\n",
    "    plt.show()\n",
    "    return accuracy, precision, recall, fscore    "
   ]
  },
  {
   "cell_type": "markdown",
   "metadata": {},
   "source": [
    "### Evalution the model on testing dataset"
   ]
  },
  {
   "cell_type": "code",
   "execution_count": 50,
   "metadata": {},
   "outputs": [
    {
     "name": "stdout",
     "output_type": "stream",
     "text": [
      "Accuracy on testing dataset :  0.910958904109589\n"
     ]
    },
    {
     "data": {
      "image/png": "[encoded data removed]",
      "text/plain": [
       "<Figure size 432x288 with 2 Axes>"
      ]
     },
     "metadata": {
      "needs_background": "light"
     },
     "output_type": "display_data"
    }
   ],
   "source": [
    "pred,result = nn.predict(test_x,test_y,ret_out=True)\n",
    "print(\"Accuracy on testing dataset : \",result)\n",
    "acc,presion,recall,fscore = evaluation(pred[0],test_y[0])\n",
    "d['Testing Acc'].append(acc)\n",
    "d['Precision'].append(presion)\n",
    "d['Recall'].append(recall)\n",
    "d['F-Score'].append(fscore)\n",
    "d['Training Acc'].append(nn.predict(train_x,train_y,ret_out=False))"
   ]
  },
  {
   "cell_type": "code",
   "execution_count": 34,
   "metadata": {},
   "outputs": [
    {
     "name": "stdout",
     "output_type": "stream",
     "text": [
      "+---------------+----------+---------------+--------------+-------------+-----------+--------+---------+\n",
      "|   Layer Arch  |   mode   | learning_rate | Training Acc | Testing Acc | Precision | Recall | F-Score |\n",
      "+---------------+----------+---------------+--------------+-------------+-----------+--------+---------+\n",
      "|   [10, 8, 1]  | uniform  |      0.01     |     0.88     |     0.91    |    0.91   |  0.92  |   0.92  |\n",
      "|   [10, 8, 1]  | gaussian |      0.01     |     0.88     |     0.91    |    0.91   |  0.93  |   0.92  |\n",
      "| [10, 8, 4, 1] | uniform  |      0.01     |     0.88     |     0.9     |    0.89   |  0.93  |   0.91  |\n",
      "| [10, 8, 4, 1] | gaussian |      0.01     |     0.89     |     0.9     |    0.89   |  0.93  |   0.91  |\n",
      "|   [10, 8, 1]  | gaussian |      0.1      |     0.88     |     0.91    |    0.91   |  0.93  |   0.92  |\n",
      "+---------------+----------+---------------+--------------+-------------+-----------+--------+---------+\n"
     ]
    }
   ],
   "source": [
    "x = PrettyTable()\n",
    "x.field_names = [\"Layer Arch\",\"mode\",\"learning_rate\",\"Training Acc\",\"Testing Acc\", \"Precision\", \"Recall\",\"F-Score\"]\n",
    "for i in zip(*d.values()):\n",
    "    x.add_row(i)\n",
    "print(x)"
   ]
  }
 ],
 "metadata": {
  "kernelspec": {
   "display_name": "Python 3",
   "language": "python",
   "name": "python3"
  },
  "language_info": {
   "codemirror_mode": {
    "name": "ipython",
    "version": 3
   },
   "file_extension": ".py",
   "mimetype": "text/x-python",
   "name": "python",
   "nbconvert_exporter": "python",
   "pygments_lexer": "ipython3",
   "version": "3.7.3"
  }
 },
 "nbformat": 4,
 "nbformat_minor": 2
}
